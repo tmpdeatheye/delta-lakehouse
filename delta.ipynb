{
 "cells": [
  {
   "cell_type": "code",
   "source": [
    "%env JAVA_HOME=/home/tmpdeatheye/.sdkman/candidates/java/current"
   ],
   "metadata": {
    "collapsed": false
   },
   "id": "3b55bc0d132255f1",
   "outputs": [],
   "execution_count": null
  },
  {
   "cell_type": "code",
   "source": [
    "from delta import *\n",
    "from delta.tables import *"
   ],
   "metadata": {
    "collapsed": true
   },
   "id": "initial_id",
   "outputs": [],
   "execution_count": null
  },
  {
   "cell_type": "code",
   "id": "13a03173c80738eb",
   "metadata": {
    "collapsed": false
   },
   "source": [
    "conf = {\n",
    "    \"spark.hadoop.fs.s3a.impl\": \"org.apache.hadoop.fs.s3a.S3AFileSystem\",\n",
    "    \"spark.hadoop.fs.s3a.endpoint\": \"http://10.1.1.2:9000\",\n",
    "    \"spark.hadoop.fs.s3a.access.key\": \"username\",\n",
    "    \"spark.hadoop.fs.s3a.secret.key\": \"password\",\n",
    "    \"spark.hadoop.fs.s3a.path.style.access\": \"true\",\n",
    "    \"spark.sql.catalogImplementation\": \"hive\",\n",
    "    \"spark.hive.metastore.uris\": \"thrift://10.1.1.7:9083\",\n",
    "    \"spark.hive.metastore.schema.verification\": \"false\",\n",
    "    \"spark.sql.extensions\": \"io.delta.sql.DeltaSparkSessionExtension\",\n",
    "    \"spark.sql.catalog.spark_catalog\": \"org.apache.spark.sql.delta.catalog.DeltaCatalog\",\n",
    "    \"spark.sql.debug.maxToStringFields\": \"1024\"\n",
    "}\n",
    "\n",
    "packages = [\n",
    "    \"org.apache.spark:spark-avro_2.12:3.5.1\",\n",
    "    \"org.apache.hadoop:hadoop-aws:3.3.4\",\n",
    "    \"io.delta:delta-spark_2.12:3.1.0\"\n",
    "]\n",
    "\n",
    "spark = configure_spark_with_delta_pip(\n",
    "    spark_session_builder=SparkSession.builder.config(map=conf),\n",
    "    extra_packages=packages\n",
    ").getOrCreate()"
   ],
   "outputs": [],
   "execution_count": null
  },
  {
   "cell_type": "code",
   "id": "c6fb7a29904f1fb3",
   "metadata": {
    "collapsed": false
   },
   "source": [
    "spark.sql(\"\"\"\n",
    "    CREATE SCHEMA billing LOCATION 's3a://lakehouse/bronze/billing/'\n",
    "\"\"\")"
   ],
   "outputs": [],
   "execution_count": null
  },
  {
   "cell_type": "code",
   "source": [
    "spark.sql(\"\"\"\n",
    "    CREATE TABLE billing.invoice (\n",
    "        order_id BIGINT,\n",
    "        created_at TIMESTAMP,\n",
    "        description STRING,\n",
    "        date DATE\n",
    "    )\n",
    "    USING DELTA\n",
    "    PARTITIONED BY (date)\n",
    "    LOCATION 's3a://lakehouse/bronze/billing/main/raw/invoice/'\n",
    "\"\"\")"
   ],
   "metadata": {
    "collapsed": false
   },
   "id": "cb4715969b70b1d3",
   "outputs": [],
   "execution_count": null
  },
  {
   "cell_type": "code",
   "source": [
    "spark.sql(\"\"\"\n",
    "    SELECT * FROM billing.invoice\n",
    "\"\"\").show(truncate=False)"
   ],
   "metadata": {
    "collapsed": false
   },
   "id": "cb0d54bbbfb4fd42",
   "outputs": [],
   "execution_count": null
  }
 ],
 "metadata": {
  "kernelspec": {
   "display_name": "Python 3",
   "language": "python",
   "name": "python3"
  },
  "language_info": {
   "codemirror_mode": {
    "name": "ipython",
    "version": 3
   },
   "file_extension": ".py",
   "mimetype": "text/x-python",
   "name": "python",
   "nbconvert_exporter": "python",
   "pygments_lexer": "ipython3",
   "version": "3.10.13"
  }
 },
 "nbformat": 4,
 "nbformat_minor": 5
}
