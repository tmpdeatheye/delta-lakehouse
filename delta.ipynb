{
 "cells": [
  {
   "cell_type": "code",
   "outputs": [
    {
     "name": "stdout",
     "output_type": "stream",
     "text": [
      "env: JAVA_HOME=/home/tmpdeatheye/.sdkman/candidates/java/current\n"
     ]
    }
   ],
   "source": [
    "%env JAVA_HOME=/home/tmpdeatheye/.sdkman/candidates/java/current"
   ],
   "metadata": {
    "collapsed": false,
    "ExecuteTime": {
     "end_time": "2024-03-27T00:33:26.364465Z",
     "start_time": "2024-03-27T00:33:26.360480Z"
    }
   },
   "id": "3b55bc0d132255f1",
   "execution_count": 1
  },
  {
   "cell_type": "code",
   "outputs": [],
   "source": [
    "from delta import *\n",
    "from delta.tables import *"
   ],
   "metadata": {
    "collapsed": true,
    "ExecuteTime": {
     "end_time": "2024-03-27T00:33:27.486524Z",
     "start_time": "2024-03-27T00:33:27.280963Z"
    }
   },
   "id": "initial_id",
   "execution_count": 2
  },
  {
   "cell_type": "code",
   "execution_count": 3,
   "id": "13a03173c80738eb",
   "metadata": {
    "collapsed": false,
    "ExecuteTime": {
     "end_time": "2024-03-27T00:33:46.470977Z",
     "start_time": "2024-03-27T00:33:28.148703Z"
    }
   },
   "outputs": [
    {
     "name": "stderr",
     "output_type": "stream",
     "text": [
      "24/03/27 07:33:29 WARN Utils: Your hostname, ubuntu resolves to a loopback address: 127.0.1.1; using 192.168.2.8 instead (on interface wlp0s20f3)\n",
      "24/03/27 07:33:29 WARN Utils: Set SPARK_LOCAL_IP if you need to bind to another address\n"
     ]
    },
    {
     "name": "stdout",
     "output_type": "stream",
     "text": [
      ":: loading settings :: url = jar:file:/opt/miniconda3/envs/venv/lib/python3.10/site-packages/pyspark/jars/ivy-2.5.1.jar!/org/apache/ivy/core/settings/ivysettings.xml\n"
     ]
    },
    {
     "name": "stderr",
     "output_type": "stream",
     "text": [
      "Ivy Default Cache set to: /home/tmpdeatheye/.ivy2/cache\n",
      "The jars for the packages stored in: /home/tmpdeatheye/.ivy2/jars\n",
      "io.delta#delta-spark_2.12 added as a dependency\n",
      "org.apache.spark#spark-avro_2.12 added as a dependency\n",
      "org.apache.hadoop#hadoop-aws added as a dependency\n",
      "io.delta#delta-spark_2.12 added as a dependency\n",
      ":: resolving dependencies :: org.apache.spark#spark-submit-parent-84d358c3-fd5b-4ffe-b170-4c0ea981a522;1.0\n",
      "\tconfs: [default]\n",
      "\tfound io.delta#delta-spark_2.12;3.1.0 in central\n",
      "\tfound io.delta#delta-storage;3.1.0 in central\n",
      "\tfound org.antlr#antlr4-runtime;4.9.3 in local-m2-cache\n",
      "\tfound org.apache.spark#spark-avro_2.12;3.5.1 in central\n",
      "\tfound org.tukaani#xz;1.9 in spark-list\n",
      "\tfound org.apache.hadoop#hadoop-aws;3.3.4 in local-m2-cache\n",
      "\tfound com.amazonaws#aws-java-sdk-bundle;1.12.262 in central\n",
      "\tfound org.wildfly.openssl#wildfly-openssl;1.0.7.Final in local-m2-cache\n",
      ":: resolution report :: resolve 182ms :: artifacts dl 5ms\n",
      "\t:: modules in use:\n",
      "\tcom.amazonaws#aws-java-sdk-bundle;1.12.262 from central in [default]\n",
      "\tio.delta#delta-spark_2.12;3.1.0 from central in [default]\n",
      "\tio.delta#delta-storage;3.1.0 from central in [default]\n",
      "\torg.antlr#antlr4-runtime;4.9.3 from local-m2-cache in [default]\n",
      "\torg.apache.hadoop#hadoop-aws;3.3.4 from local-m2-cache in [default]\n",
      "\torg.apache.spark#spark-avro_2.12;3.5.1 from central in [default]\n",
      "\torg.tukaani#xz;1.9 from spark-list in [default]\n",
      "\torg.wildfly.openssl#wildfly-openssl;1.0.7.Final from local-m2-cache in [default]\n",
      "\t---------------------------------------------------------------------\n",
      "\t|                  |            modules            ||   artifacts   |\n",
      "\t|       conf       | number| search|dwnlded|evicted|| number|dwnlded|\n",
      "\t---------------------------------------------------------------------\n",
      "\t|      default     |   8   |   0   |   0   |   0   ||   8   |   0   |\n",
      "\t---------------------------------------------------------------------\n",
      ":: retrieving :: org.apache.spark#spark-submit-parent-84d358c3-fd5b-4ffe-b170-4c0ea981a522\n",
      "\tconfs: [default]\n",
      "\t0 artifacts copied, 8 already retrieved (0kB/5ms)\n",
      "24/03/27 07:33:44 WARN NativeCodeLoader: Unable to load native-hadoop library for your platform... using builtin-java classes where applicable\n",
      "Setting default log level to \"WARN\".\n",
      "To adjust logging level use sc.setLogLevel(newLevel). For SparkR, use setLogLevel(newLevel).\n"
     ]
    }
   ],
   "source": [
    "conf = {\n",
    "    \"spark.hadoop.fs.s3a.impl\": \"org.apache.hadoop.fs.s3a.S3AFileSystem\",\n",
    "    \"spark.hadoop.fs.s3a.endpoint\": \"http://10.1.1.2:9000\",\n",
    "    \"spark.hadoop.fs.s3a.access.key\": \"username\",\n",
    "    \"spark.hadoop.fs.s3a.secret.key\": \"password\",\n",
    "    \"spark.hadoop.fs.s3a.path.style.access\": \"true\",\n",
    "    \"spark.sql.catalogImplementation\": \"hive\",\n",
    "    \"spark.hive.metastore.uris\": \"thrift://10.1.1.7:9083\",\n",
    "    \"spark.hive.metastore.schema.verification\": \"false\",\n",
    "    \"spark.sql.extensions\": \"io.delta.sql.DeltaSparkSessionExtension\",\n",
    "    \"spark.sql.catalog.spark_catalog\": \"org.apache.spark.sql.delta.catalog.DeltaCatalog\",\n",
    "    \"spark.sql.debug.maxToStringFields\": \"1024\"\n",
    "}\n",
    "\n",
    "packages = [\n",
    "    \"org.apache.spark:spark-avro_2.12:3.5.1\",\n",
    "    \"org.apache.hadoop:hadoop-aws:3.3.4\",\n",
    "    \"io.delta:delta-spark_2.12:3.1.0\"\n",
    "]\n",
    "\n",
    "spark = configure_spark_with_delta_pip(\n",
    "    spark_session_builder=SparkSession.builder.config(map=conf),\n",
    "    extra_packages=packages\n",
    ").getOrCreate()"
   ]
  },
  {
   "cell_type": "code",
   "execution_count": 4,
   "id": "c6fb7a29904f1fb3",
   "metadata": {
    "collapsed": false,
    "ExecuteTime": {
     "end_time": "2024-03-26T17:18:57.232921Z",
     "start_time": "2024-03-26T17:18:55.585291Z"
    }
   },
   "outputs": [
    {
     "data": {
      "text/plain": "DataFrame[]"
     },
     "execution_count": 4,
     "metadata": {},
     "output_type": "execute_result"
    }
   ],
   "source": [
    "spark.sql(\"\"\"\n",
    "    CREATE SCHEMA billing LOCATION 's3a://lakehouse/bronze/billing/'\n",
    "\"\"\")"
   ]
  },
  {
   "cell_type": "code",
   "outputs": [
    {
     "name": "stderr",
     "output_type": "stream",
     "text": [
      "24/03/27 00:18:57 WARN MetricsConfig: Cannot locate configuration: tried hadoop-metrics2-s3a-file-system.properties,hadoop-metrics2.properties\n",
      "24/03/27 00:19:01 WARN HiveExternalCatalog: Couldn't find corresponding Hive SerDe for data source provider delta. Persisting data source table `spark_catalog`.`billing`.`invoice` into Hive metastore in Spark SQL specific format, which is NOT compatible with Hive.\n",
      "24/03/27 00:19:01 WARN SessionState: METASTORE_FILTER_HOOK will be ignored, since hive.security.authorization.manager is set to instance of HiveAuthorizerFactory.\n"
     ]
    },
    {
     "data": {
      "text/plain": "DataFrame[]"
     },
     "execution_count": 5,
     "metadata": {},
     "output_type": "execute_result"
    }
   ],
   "source": [
    "spark.sql(\"\"\"\n",
    "    CREATE TABLE billing.invoice (\n",
    "        order_id BIGINT,\n",
    "        created_at TIMESTAMP,\n",
    "        description STRING,\n",
    "        date DATE\n",
    "    )\n",
    "    USING DELTA\n",
    "    PARTITIONED BY (date)\n",
    "    LOCATION 's3a://lakehouse/bronze/billing/main/raw/invoice/'\n",
    "\"\"\")"
   ],
   "metadata": {
    "collapsed": false,
    "ExecuteTime": {
     "end_time": "2024-03-26T17:19:01.912238Z",
     "start_time": "2024-03-26T17:18:57.233723Z"
    }
   },
   "id": "cb4715969b70b1d3",
   "execution_count": 5
  },
  {
   "cell_type": "code",
   "outputs": [
    {
     "name": "stdout",
     "output_type": "stream",
     "text": [
      "+--------+-------------------+-----------+----------+\n",
      "|order_id|created_at         |description|date      |\n",
      "+--------+-------------------+-----------+----------+\n",
      "|2       |2024-03-27 00:28:06|two-two    |2024-03-26|\n",
      "+--------+-------------------+-----------+----------+\n"
     ]
    }
   ],
   "source": [
    "spark.sql(\"\"\"\n",
    "    SELECT * FROM billing.invoice\n",
    "\"\"\").show(truncate=False)"
   ],
   "metadata": {
    "collapsed": false,
    "ExecuteTime": {
     "end_time": "2024-03-26T17:29:24.235098Z",
     "start_time": "2024-03-26T17:29:23.645278Z"
    }
   },
   "id": "cb0d54bbbfb4fd42",
   "execution_count": 12
  }
 ],
 "metadata": {
  "kernelspec": {
   "display_name": "Python 3",
   "language": "python",
   "name": "python3"
  },
  "language_info": {
   "codemirror_mode": {
    "name": "ipython",
    "version": 3
   },
   "file_extension": ".py",
   "mimetype": "text/x-python",
   "name": "python",
   "nbconvert_exporter": "python",
   "pygments_lexer": "ipython3",
   "version": "3.10.13"
  }
 },
 "nbformat": 4,
 "nbformat_minor": 5
}
