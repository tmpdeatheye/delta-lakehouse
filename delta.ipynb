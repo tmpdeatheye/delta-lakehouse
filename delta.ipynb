{
 "cells": [
  {
   "cell_type": "code",
   "execution_count": null,
   "id": "initial_id",
   "metadata": {
    "collapsed": true
   },
   "outputs": [],
   "source": [
    "from pyspark.sql import SparkSession\n",
    "from pyspark.sql.functions import *\n",
    "from delta import *\n",
    "from delta.tables import *"
   ]
  },
  {
   "cell_type": "code",
   "execution_count": null,
   "id": "13a03173c80738eb",
   "metadata": {
    "collapsed": false
   },
   "outputs": [],
   "source": [
    "conf = {\n",
    "    \"spark.hadoop.fs.s3a.impl\": \"org.apache.hadoop.fs.s3a.S3AFileSystem\",\n",
    "    \"spark.hadoop.fs.s3a.endpoint\": \"http://10.1.1.2:9000\",\n",
    "    \"spark.hadoop.fs.s3a.access.key\": \"username\",\n",
    "    \"spark.hadoop.fs.s3a.secret.key\": \"password\",\n",
    "    \"spark.hadoop.fs.s3a.path.style.access\": \"true\",\n",
    "    \"spark.sql.catalogImplementation\": \"hive\",\n",
    "    \"spark.hive.metastore.uris\": \"thrift://10.1.1.7:9083\",\n",
    "    \"spark.hive.metastore.schema.verification\": \"false\",\n",
    "    \"spark.sql.extensions\": \"io.delta.sql.DeltaSparkSessionExtension\",\n",
    "    \"spark.sql.catalog.spark_catalog\": \"org.apache.spark.sql.delta.catalog.DeltaCatalog\",\n",
    "    \"spark.sql.debug.maxToStringFields\": \"1024\"\n",
    "}\n",
    "\n",
    "packages = [\n",
    "    \"org.apache.spark:spark-avro_2.12:3.5.1\",\n",
    "    \"org.apache.hadoop:hadoop-aws:3.3.4\",\n",
    "    \"io.delta:delta-spark_2.12:3.1.0\"\n",
    "]\n",
    "\n",
    "spark = configure_spark_with_delta_pip(\n",
    "    spark_session_builder=SparkSession.builder.config(map=conf),\n",
    "    extra_packages=packages\n",
    ").getOrCreate()"
   ]
  },
  {
   "cell_type": "code",
   "execution_count": null,
   "id": "c6fb7a29904f1fb3",
   "metadata": {
    "collapsed": false
   },
   "outputs": [],
   "source": [
    "spark.sql(\"\"\"\n",
    "    CREATE SCHEMA vnshop LOCATION 's3a://lakehouse/silver/vnshop/'\n",
    "\"\"\")"
   ]
  },
  {
   "cell_type": "code",
   "execution_count": null,
   "id": "cb4715969b70b1d3",
   "metadata": {
    "collapsed": false
   },
   "outputs": [],
   "source": [
    "spark.sql(\"\"\"\n",
    "    CREATE TABLE vnshop.fact_order_created (\n",
    "        id INT,\n",
    "        name STRING,\n",
    "        date STRING\n",
    "    )\n",
    "    USING DELTA\n",
    "    PARTITIONED BY (date)\n",
    "    LOCATION 's3a://lakehouse/silver/vnshop/main/fact/order_created/'\n",
    "\"\"\")"
   ]
  },
  {
   "cell_type": "code",
   "execution_count": null,
   "id": "8f9286fd711880fc",
   "metadata": {
    "collapsed": false
   },
   "outputs": [],
   "source": [
    "spark.sql(\"\"\"\n",
    "    INSERT INTO vnshop.fact_order_created\n",
    "    VALUES (1, 'a', '2022-01-01'), \n",
    "           (2, 'B', '2022-01-01'),\n",
    "           (3, 'C', '2022-01-02'), \n",
    "           (4, 'D', '2022-01-03'),\n",
    "           (5, 'E', '2022-01-03')\n",
    "\"\"\")"
   ]
  },
  {
   "cell_type": "code",
   "execution_count": null,
   "id": "714c4dcc7cd29f09",
   "metadata": {
    "collapsed": false
   },
   "outputs": [],
   "source": [
    "spark.sql(\"\"\"\n",
    "    UPDATE vnshop.fact_order_created SET name = 'A' WHERE name = 'a'; \n",
    "\"\"\")"
   ]
  }
 ],
 "metadata": {
  "kernelspec": {
   "display_name": "Python 3",
   "language": "python",
   "name": "python3"
  },
  "language_info": {
   "codemirror_mode": {
    "name": "ipython",
    "version": 3
   },
   "file_extension": ".py",
   "mimetype": "text/x-python",
   "name": "python",
   "nbconvert_exporter": "python",
   "pygments_lexer": "ipython3",
   "version": "3.10.13"
  }
 },
 "nbformat": 4,
 "nbformat_minor": 5
}
